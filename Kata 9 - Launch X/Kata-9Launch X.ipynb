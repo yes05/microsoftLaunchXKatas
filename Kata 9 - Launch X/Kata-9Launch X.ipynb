{
 "cells": [
  {
   "cell_type": "code",
   "execution_count": 7,
   "metadata": {},
   "outputs": [
    {
     "name": "stdout",
     "output_type": "stream",
     "text": [
      "Fuel Report:\n",
      "    Promedio: 78.33333333333333%\n",
      "    Primer tanque: 80%\n",
      "    Segundo tanque: 70%\n",
      "    Tercer tanque: 85% \n",
      "    \n",
      "Fuel Report:\n",
      "    Promedio: 78.33333333333333%\n",
      "    Primer tanque: 80%\n",
      "    Segundo tanque: 70%\n",
      "    Tercer tanque: 85% \n",
      "    \n"
     ]
    }
   ],
   "source": [
    "# Función para leer 3 tanques de combustible y muestre el promedio\n",
    "def generarReporte(primerTanque, segundoTanque, tecerTanque):\n",
    "    promedio = (primerTanque + segundoTanque + tecerTanque) / 3\n",
    "    return f\"\"\"Fuel Report:\n",
    "    Promedio: {promedio}%\n",
    "    Primer tanque: {primerTanque}%\n",
    "    Segundo tanque: {segundoTanque}%\n",
    "    Tercer tanque: {tecerTanque}% \n",
    "    \"\"\"\n",
    "\n",
    "#print(generarReporte(80, 70, 85))\n",
    "\n",
    "# Función promedio \n",
    "def promedio(vals):\n",
    "    total = sum(vals)\n",
    "    numeroItems = len(vals)\n",
    "    return total / numeroItems\n",
    "\n",
    "#promedio([80, 85, 81]) \n",
    "\n",
    "def generaReporteAct(primerTanque, segundoTanque, tecerTanque):\n",
    "    return f\"\"\"Fuel Report:\n",
    "    Promedio: {promedio([primerTanque, segundoTanque, tecerTanque])}%\n",
    "    Primer tanque: {primerTanque}%\n",
    "    Segundo tanque: {segundoTanque}%\n",
    "    Tercer tanque: {tecerTanque}% \n",
    "    \"\"\"\n",
    "\n",
    "print(generaReporteAct(80, 70, 85))"
   ]
  },
  {
   "cell_type": "markdown",
   "metadata": {},
   "source": [
    "#  Uso de funciones en Python"
   ]
  },
  {
   "cell_type": "code",
   "execution_count": 14,
   "metadata": {},
   "outputs": [
    {
     "name": "stdout",
     "output_type": "stream",
     "text": [
      "\n",
      "    Misión hacia Luna\n",
      "    Tiempo total del viaje: 65 minutes\n",
      "    Combustible restante: 500000 gallons\n",
      "    \n",
      "\n",
      "    Missión hacia Luna\n",
      "    Tiempo total del viaje: 76 minutes\n",
      "    Combustible restante: 500000\n",
      "    \n",
      "\n",
      "    Missión hacia Luna\n",
      "    Tiempo total del viaje: 74 minutes\n",
      "    Combustible restante: 500000\n",
      "    principal --> 300000 galones restantes\n",
      "externo --> 200000 galones restantes\n",
      "\n"
     ]
    }
   ],
   "source": [
    "# Función con un informe preciso de la misión. Considera hora de prelanzamiento, tiempo de vuelo, destino, tanque externo y tanque interno\n",
    "\n",
    "def reporteDeMision(tiempoPreLanz, tiempoVuelo, destino, tanqueExterni, tanquePrincipal):\n",
    "    return f\"\"\"\n",
    "    Misión hacia {destino}\n",
    "    Tiempo total del viaje: {tiempoPreLanz + tiempoVuelo} minutes\n",
    "    Combustible restante: {tanqueExterni + tanquePrincipal} gallons\n",
    "    \"\"\"\n",
    "\n",
    "print(reporteDeMision(14, 51, \"Luna\", 200000, 300000))\n",
    "\n",
    "# Escribe tu nueva función de reporte considerando lo anterior\n",
    "\n",
    "def reporteDeMisionActualizado(destino, *minutos, **reservaCombustible):\n",
    "    return f\"\"\"\n",
    "    Missión hacia {destino}\n",
    "    Tiempo total del viaje: {sum(minutos)} minutes\n",
    "    Combustible restante: {sum(reservaCombustible.values())}\n",
    "    \"\"\"\n",
    "\n",
    "print(reporteDeMisionActualizado(\"Luna\", 10, 15, 51, main=300000, external=200000))\n",
    "\n",
    "# Escribe tu nueva función\n",
    "\n",
    "def reporteDeMisionNuevo(destino, *minutos, **reservaCombustible):\n",
    "    reportePrincipal = f\"\"\"\n",
    "    Missión hacia {destino}\n",
    "    Tiempo total del viaje: {sum(minutos)} minutes\n",
    "    Combustible restante: {sum(reservaCombustible.values())}\n",
    "    \"\"\"\n",
    "    for nombreTanque, galones in reservaCombustible.items():\n",
    "        reportePrincipal += f\"{nombreTanque} --> {galones} galones restantes\\n\"\n",
    "    return reportePrincipal\n",
    "\n",
    "print(reporteDeMisionNuevo(\"Luna\", 8, 11, 55, principal=300000, externo=200000))"
   ]
  },
  {
   "cell_type": "markdown",
   "metadata": {},
   "source": [
    "# Trabajo con argumentos de palabra clave"
   ]
  }
 ],
 "metadata": {
  "interpreter": {
   "hash": "4ce0e62306dd6a5716965d4519ada776f947e6dfc145b604b11307c10277ef29"
  },
  "kernelspec": {
   "display_name": "Python 3.10.2 64-bit",
   "language": "python",
   "name": "python3"
  },
  "language_info": {
   "codemirror_mode": {
    "name": "ipython",
    "version": 3
   },
   "file_extension": ".py",
   "mimetype": "text/x-python",
   "name": "python",
   "nbconvert_exporter": "python",
   "pygments_lexer": "ipython3",
   "version": "3.10.2"
  },
  "orig_nbformat": 4
 },
 "nbformat": 4,
 "nbformat_minor": 2
}
