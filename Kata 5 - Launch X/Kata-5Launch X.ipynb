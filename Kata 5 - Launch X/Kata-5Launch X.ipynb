{
 "cells": [
  {
   "cell_type": "code",
   "execution_count": 10,
   "metadata": {},
   "outputs": [
    {
     "name": "stdout",
     "output_type": "stream",
     "text": [
      "628949330\n",
      "390577534\n"
     ]
    }
   ],
   "source": [
    "distanciaTierra = 149597870\n",
    "distanciaJupiter = 778547200\n",
    "\n",
    "distanciaPlanetas =  distanciaJupiter - distanciaTierra\n",
    "distPlanetasMillas = (distanciaJupiter - distanciaTierra) * 0.621\n",
    "\n",
    "print(distanciaPlanetas)\n",
    "print(round(distPlanetasMillas))"
   ]
  },
  {
   "cell_type": "markdown",
   "metadata": {},
   "source": [
    "# Utilizar operadores aritméticos"
   ]
  },
  {
   "cell_type": "code",
   "execution_count": 11,
   "metadata": {},
   "outputs": [
    {
     "name": "stdout",
     "output_type": "stream",
     "text": [
      "628949330\n",
      "13.661999999999999\n"
     ]
    }
   ],
   "source": [
    "# Datos del usuario\n",
    "primerPlaneta = input('Introducir la distancia del sol para el primer planeta')\n",
    "segundoPlaneta = input('Intriducir la distancia desde el sol para el segundo planeta')\n",
    "\n",
    "# Convertir a enteros\n",
    "primerPlanetaInt = int(primerPlaneta)\n",
    "segundoPlanetaInt = int(segundoPlaneta)\n",
    "\n",
    "# Operacion\n",
    "distanciaPlanetasKm = primerPlanetaInt - segundoPlanetaInt\n",
    "print(distanciaPlanetas)\n",
    "\n",
    "# Conversión a millas\n",
    "distanciaPlanetasMi = distanciaPlanetasKm * 0.621\n",
    "print(abs(distanciaPlanetasMi))\n"
   ]
  },
  {
   "cell_type": "markdown",
   "metadata": {},
   "source": [
    "# Convierte cadenas en números y usa valores absolutos"
   ]
  }
 ],
 "metadata": {
  "interpreter": {
   "hash": "4ce0e62306dd6a5716965d4519ada776f947e6dfc145b604b11307c10277ef29"
  },
  "kernelspec": {
   "display_name": "Python 3.10.2 64-bit",
   "language": "python",
   "name": "python3"
  },
  "language_info": {
   "codemirror_mode": {
    "name": "ipython",
    "version": 3
   },
   "file_extension": ".py",
   "mimetype": "text/x-python",
   "name": "python",
   "nbconvert_exporter": "python",
   "pygments_lexer": "ipython3",
   "version": "3.10.2"
  },
  "orig_nbformat": 4
 },
 "nbformat": 4,
 "nbformat_minor": 2
}
