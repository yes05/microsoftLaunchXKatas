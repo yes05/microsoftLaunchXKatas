{
 "cells": [
  {
   "cell_type": "code",
   "execution_count": 1,
   "metadata": {},
   "outputs": [
    {
     "name": "stdout",
     "output_type": "stream",
     "text": [
      "Un asteroide se acerca a la Tierra demasiado rápido\n"
     ]
    }
   ],
   "source": [
    "velocidadAsteroide = 49\n",
    "\n",
    "if velocidadAsteroide > 25:\n",
    "    print(\"Un asteroide se acerca a la Tierra demasiado rápido\")\n",
    "else:\n",
    "    print(\"Un asteroide no se acerca a la Tierra demasiado rápido\")\n"
   ]
  },
  {
   "cell_type": "code",
   "execution_count": 2,
   "metadata": {},
   "outputs": [
    {
     "name": "stdout",
     "output_type": "stream",
     "text": [
      "No se puede ver el rayo de luz del asteroide\n"
     ]
    }
   ],
   "source": [
    "velocidadAsteroide = 19\n",
    "\n",
    "if velocidadAsteroide >= 20:\n",
    "    print(\"Se pude ver el rayo de luz del asteroide\")\n",
    "elif velocidadAsteroide < 20:\n",
    "    print(\"No se puede ver el rayo de luz del asteroide\")\n",
    "else:\n",
    "    print(\"No hay asteroide cerca\")"
   ]
  },
  {
   "cell_type": "markdown",
   "metadata": {},
   "source": [
    "# Escribir declaraciones if, else, y elif"
   ]
  },
  {
   "cell_type": "code",
   "execution_count": null,
   "metadata": {},
   "outputs": [],
   "source": [
    "velocidadAteroide = 20\n",
    "dimensionAsteroide = 25\n",
    "\n",
    "if velocidadAsteroide > 25 and dimensionAsteroide > 25 and dimensionAsteroide < 1000:\n",
    "    print(\"Un asteroide se acerca a la Tierra demasiado rápido y causará mucho daño!\")\n",
    "elif velocidadAteroide >= 20:\n",
    "    print(\"Se pude ver el rayo de luz del asteroide y se acerca a la Tierra demasiado rápido\")\n",
    "elif dimensionAsteroide < 25 and velocidadAsteroide < 20:\n",
    "    print(\"No hay que preocuparse\")\n",
    "else:\n",
    "    print(\"No hay que preocuparse\")"
   ]
  },
  {
   "cell_type": "markdown",
   "metadata": {},
   "source": [
    "# Uso de operadores and y or"
   ]
  }
 ],
 "metadata": {
  "interpreter": {
   "hash": "4ce0e62306dd6a5716965d4519ada776f947e6dfc145b604b11307c10277ef29"
  },
  "kernelspec": {
   "display_name": "Python 3.10.2 64-bit",
   "language": "python",
   "name": "python3"
  },
  "language_info": {
   "codemirror_mode": {
    "name": "ipython",
    "version": 3
   },
   "file_extension": ".py",
   "mimetype": "text/x-python",
   "name": "python",
   "nbconvert_exporter": "python",
   "pygments_lexer": "ipython3",
   "version": "3.10.2"
  },
  "orig_nbformat": 4
 },
 "nbformat": 4,
 "nbformat_minor": 2
}
